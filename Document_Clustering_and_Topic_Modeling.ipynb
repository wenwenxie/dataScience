{
  "nbformat": 4,
  "nbformat_minor": 0,
  "metadata": {
    "colab": {
      "name": "Document Clustering and Topic Modeling.ipynb",
      "provenance": [],
      "collapsed_sections": []
    },
    "kernelspec": {
      "name": "python3",
      "display_name": "Python 3"
    }
  },
  "cells": [
    {
      "cell_type": "markdown",
      "metadata": {
        "id": "Xp3LTq59E8UK",
        "colab_type": "text"
      },
      "source": [
        "# Document Clustering and Topic Modeling"
      ]
    },
    {
      "cell_type": "markdown",
      "metadata": {
        "id": "mS-ob0Q8E8UM",
        "colab_type": "text"
      },
      "source": [
        "*In* this project, we use unsupervised learning models to cluster unlabeled documents into different groups, visualize the results and identify their latent topics/structures."
      ]
    },
    {
      "cell_type": "markdown",
      "metadata": {
        "id": "ZE7Qr-ccE8UN",
        "colab_type": "text"
      },
      "source": [
        "## Contents"
      ]
    },
    {
      "cell_type": "markdown",
      "metadata": {
        "id": "2S0waFW9E8UO",
        "colab_type": "text"
      },
      "source": [
        "<ul>\n",
        "<li>[Part 1: Load Data](#Part-1:-Load-Data)\n",
        "<li>[Part 2: Tokenizing and Stemming](#Part-2:-Tokenizing-and-Stemming)\n",
        "<li>[Part 3: TF-IDF](#Part-3:-TF-IDF)\n",
        "<li>[Part 4: K-means clustering](#Part-4:-K-means-clustering)\n",
        "<li>[Part 5: Topic Modeling - Latent Dirichlet Allocation](#Part-5:-Topic-Modeling---Latent-Dirichlet-Allocation)\n",
        "</ul>"
      ]
    },
    {
      "cell_type": "markdown",
      "metadata": {
        "id": "5nXGAelMjJFq",
        "colab_type": "text"
      },
      "source": [
        "# Part 0: Setup Google Drive Environment"
      ]
    },
    {
      "cell_type": "code",
      "metadata": {
        "id": "6eT1n7oijJ8v",
        "colab_type": "code",
        "colab": {}
      },
      "source": [
        "!pip install -U -q PyDrive\n",
        "\n",
        "from pydrive.auth import GoogleAuth\n",
        "from pydrive.drive import GoogleDrive\n",
        "from google.colab import auth\n",
        "from oauth2client.client import GoogleCredentials\n",
        "\n",
        "auth.authenticate_user()\n",
        "gauth = GoogleAuth()\n",
        "gauth.credentials = GoogleCredentials.get_application_default()\n",
        "drive = GoogleDrive(gauth)"
      ],
      "execution_count": 0,
      "outputs": []
    },
    {
      "cell_type": "code",
      "metadata": {
        "id": "0N2bb9S6jKGh",
        "colab_type": "code",
        "colab": {}
      },
      "source": [
        "file1 = drive.CreateFile({'id':'1qsXwjkDQaqKwZAKwKfab2K-DVvIRg5XO'}) # replace the id with id of file you want to access\n",
        "file1.GetContentFile('synopses_list_imdb.txt')  \n",
        "file2 = drive.CreateFile({'id':'12U7lAH7ciY-1OueAaRfJoFxETOK15jGh'}) # replace the id with id of file you want to access\n",
        "file2.GetContentFile('synopses_list_wiki.txt')  \n",
        "file3 = drive.CreateFile({'id':'1dU-k3_r4YnvUZvSCkRujwIttnlogv-1D'}) # replace the id with id of file you want to access\n",
        "file3.GetContentFile('title_list.txt')  "
      ],
      "execution_count": 0,
      "outputs": []
    },
    {
      "cell_type": "markdown",
      "metadata": {
        "id": "Nc9DK62BE8UP",
        "colab_type": "text"
      },
      "source": [
        "# Part 1: Load Data"
      ]
    },
    {
      "cell_type": "code",
      "metadata": {
        "id": "OjdBV8gGE8UQ",
        "colab_type": "code",
        "outputId": "2836997a-918f-4cb4-b0bc-4c03f752b9c5",
        "colab": {
          "base_uri": "https://localhost:8080/",
          "height": 104
        }
      },
      "source": [
        "import warnings\n",
        "warnings.filterwarnings('ignore')\n",
        "import numpy as np\n",
        "import pandas as pd\n",
        "import nltk\n",
        "# REGULAR EXPRESSION\n",
        "import re\n",
        "import os\n",
        "\n",
        "from sklearn import decomposition\n",
        "from sklearn.feature_extraction.text import TfidfVectorizer\n",
        "import matplotlib.pyplot as plt\n",
        "\n",
        "nltk.download('punkt')\n",
        "nltk.download('stopwords')"
      ],
      "execution_count": 3,
      "outputs": [
        {
          "output_type": "stream",
          "text": [
            "[nltk_data] Downloading package punkt to /root/nltk_data...\n",
            "[nltk_data]   Unzipping tokenizers/punkt.zip.\n",
            "[nltk_data] Downloading package stopwords to /root/nltk_data...\n",
            "[nltk_data]   Unzipping corpora/stopwords.zip.\n"
          ],
          "name": "stdout"
        },
        {
          "output_type": "execute_result",
          "data": {
            "text/plain": [
              "True"
            ]
          },
          "metadata": {
            "tags": []
          },
          "execution_count": 3
        }
      ]
    },
    {
      "cell_type": "markdown",
      "metadata": {
        "id": "gVsLtiVfE8UU",
        "colab_type": "text"
      },
      "source": [
        "Read data from files. In summary, we have 100 titles and 100 synoposes (combined from imdb and wiki)."
      ]
    },
    {
      "cell_type": "code",
      "metadata": {
        "id": "wiGJ0f_gE8UV",
        "colab_type": "code",
        "colab": {}
      },
      "source": [
        "#import three lists: titles and wikipedia synopses\n",
        "titles = open('title_list.txt').read().split('\\n')\n",
        "titles = titles[:100] #ensures that only the first 100 are read in\n",
        "\n",
        "#The wiki synopses and imdb synopses of each movie is seperated by the keywords \"BREAKS HERE\". \n",
        "#Each synoposes may consist of multiple paragraphs.\n",
        "synopses_wiki = open('synopses_list_wiki.txt').read().split('\\n BREAKS HERE')\n",
        "synopses_wiki = synopses_wiki[:100]\n",
        "\n",
        "synopses_imdb = open('synopses_list_imdb.txt').read().split('\\n BREAKS HERE')\n",
        "synopses_imdb = synopses_imdb[:100]\n",
        "\n",
        "#Combine imdb and wiki to get full synoposes for the top 100 movies. \n",
        "synopses = []\n",
        "for i in range(len(synopses_wiki)):\n",
        "    item = synopses_wiki[i] + synopses_imdb[i]\n",
        "    synopses.append(item)\n",
        "    \n",
        "#Because these synopses have already been ordered in popularity order, \n",
        "#we just need to generate a list of ordered numbers for future usage.\n",
        "ranks = range(len(titles))"
      ],
      "execution_count": 0,
      "outputs": []
    },
    {
      "cell_type": "markdown",
      "metadata": {
        "id": "iQ4KGnVeE8UX",
        "colab_type": "text"
      },
      "source": [
        "# Part 2: Tokenizing and Stemming"
      ]
    },
    {
      "cell_type": "markdown",
      "metadata": {
        "collapsed": true,
        "id": "GHHIaFATE8UY",
        "colab_type": "text"
      },
      "source": [
        "Load stopwords and stemmer function from NLTK library.\n",
        "Stop words are words like \"a\", \"the\", or \"in\" which don't convey significant meaning.\n",
        "Stemming is the process of breaking a word down into its root."
      ]
    },
    {
      "cell_type": "code",
      "metadata": {
        "id": "3gSwiUBRE8UY",
        "colab_type": "code",
        "outputId": "02e72faa-6d4c-48ac-9c85-0b09544614a7",
        "colab": {
          "base_uri": "https://localhost:8080/",
          "height": 52
        }
      },
      "source": [
        "# Use nltk's English stopwords.\n",
        "stopwords = nltk.corpus.stopwords.words('english')\n",
        "\n",
        "print (\"We use \" + str(len(stopwords)) + \" stop-words from nltk library.\")\n",
        "print (stopwords[:10])"
      ],
      "execution_count": 5,
      "outputs": [
        {
          "output_type": "stream",
          "text": [
            "We use 179 stop-words from nltk library.\n",
            "['i', 'me', 'my', 'myself', 'we', 'our', 'ours', 'ourselves', 'you', \"you're\"]\n"
          ],
          "name": "stdout"
        }
      ]
    },
    {
      "cell_type": "code",
      "metadata": {
        "id": "e50130X8E8Uc",
        "colab_type": "code",
        "colab": {}
      },
      "source": [
        "from nltk.stem.snowball import SnowballStemmer\n",
        "stemmer = SnowballStemmer(\"english\")\n",
        "\n",
        "# tokenization and stemming\n",
        "def tokenization_and_stemming(text):\n",
        "    # exclude stop words and tokenize the document, generate a list of string \n",
        "    tokens = [word.lower() for sent in nltk.sent_tokenize(text) for word in nltk.word_tokenize(sent) if word not in stopwords]\n",
        "\n",
        "    filtered_tokens = []\n",
        "    \n",
        "    # filter out any tokens not containing letters (e.g., numeric tokens, raw punctuation)\n",
        "    for token in tokens:\n",
        "        if re.search('[a-zA-Z]', token):\n",
        "            filtered_tokens.append(token)\n",
        "            \n",
        "    # stemming\n",
        "    stems = [stemmer.stem(t) for t in filtered_tokens]\n",
        "    return stems\n",
        "\n",
        "# tokenization without stemming\n",
        "def tokenization(text):\n",
        "    tokens = [word.lower() for sent in nltk.sent_tokenize(text) for word in nltk.word_tokenize(sent) if word not in stopwords]\n",
        "    filtered_tokens = []\n",
        "    for token in tokens:\n",
        "        if re.search('[a-zA-Z]', token):\n",
        "            filtered_tokens.append(token)\n",
        "    return filtered_tokens"
      ],
      "execution_count": 0,
      "outputs": []
    },
    {
      "cell_type": "code",
      "metadata": {
        "id": "BwbA6hETE8Uf",
        "colab_type": "code",
        "outputId": "db886dd7-02c1-48df-8558-de32183080b3",
        "colab": {
          "base_uri": "https://localhost:8080/",
          "height": 34
        }
      },
      "source": [
        "# tokenization and stemming\n",
        "tokenization_and_stemming(\"she looked at her father's arm.\")"
      ],
      "execution_count": 7,
      "outputs": [
        {
          "output_type": "execute_result",
          "data": {
            "text/plain": [
              "['look', 'father', \"'s\", 'arm']"
            ]
          },
          "metadata": {
            "tags": []
          },
          "execution_count": 7
        }
      ]
    },
    {
      "cell_type": "markdown",
      "metadata": {
        "id": "WtDXMCeME8Uh",
        "colab_type": "text"
      },
      "source": [
        "Use our defined functions to analyze (i.e. tokenize, stem) our synoposes."
      ]
    },
    {
      "cell_type": "code",
      "metadata": {
        "id": "CNtXZ3RlE8Ui",
        "colab_type": "code",
        "colab": {}
      },
      "source": [
        "# 1. do tokenization and stemming for all the documents\n",
        "# 2. also just do tokenization for all the documents\n",
        "# the goal is to create a mapping from stemmed words to original tokenized words for result interpretation.\n",
        "docs_stemmed = []\n",
        "docs_tokenized = []\n",
        "for i in synopses:\n",
        "    tokenized_and_stemmed_results = tokenization_and_stemming(i)\n",
        "    docs_stemmed.extend(tokenized_and_stemmed_results)\n",
        "    \n",
        "    tokenized_results = tokenization(i)\n",
        "    docs_tokenized.extend(tokenized_results)"
      ],
      "execution_count": 0,
      "outputs": []
    },
    {
      "cell_type": "markdown",
      "metadata": {
        "id": "Kj7JZxnpE8Uk",
        "colab_type": "text"
      },
      "source": [
        "Create a mapping from stemmed words to original tokenized words for result interpretation."
      ]
    },
    {
      "cell_type": "code",
      "metadata": {
        "id": "uoTp63fME8Ul",
        "colab_type": "code",
        "outputId": "4e92f86a-7582-4bdf-ffde-fd8e6d3bc1eb",
        "colab": {
          "base_uri": "https://localhost:8080/",
          "height": 34
        }
      },
      "source": [
        "vocab_frame_dict = {docs_stemmed[x]:docs_tokenized[x] for x in range(len(docs_stemmed))}\n",
        "print (vocab_frame_dict['angel'])"
      ],
      "execution_count": 9,
      "outputs": [
        {
          "output_type": "stream",
          "text": [
            "angeles\n"
          ],
          "name": "stdout"
        }
      ]
    },
    {
      "cell_type": "markdown",
      "metadata": {
        "collapsed": true,
        "id": "QAWdFqL5E8Uo",
        "colab_type": "text"
      },
      "source": [
        "# Part 3: TF-IDF\n",
        "\n",
        "TF: Term Frequency\n",
        "\n",
        "IDF: Inverse Document Frequency\n",
        "\n"
      ]
    },
    {
      "cell_type": "code",
      "metadata": {
        "id": "k-XH7R4pE8Up",
        "colab_type": "code",
        "outputId": "f93f18e9-68ae-40ea-a578-764438fed052",
        "colab": {
          "base_uri": "https://localhost:8080/",
          "height": 34
        }
      },
      "source": [
        "# define vectorizer parameters\n",
        "# TfidfVectorizer will help us to create tf-idf matrix\n",
        "# max_df : maximum document frequency for the given word\n",
        "# min_df : minimum document frequency for the given word\n",
        "# max_features: maximum number of words\n",
        "# use_idf: if not true, we only calculate tf\n",
        "# stop_words : built-in stop words\n",
        "# tokenizer: how to tokenize the document\n",
        "# ngram_range: (min_value, max_value), eg. (1, 3) means the result will include 1-gram, 2-gram, 3-gram\n",
        "tfidf_model = TfidfVectorizer(max_df=0.8, max_features=2000,\n",
        "                                 min_df=0.1, stop_words='english',\n",
        "                                 use_idf=True, tokenizer=tokenization_and_stemming, ngram_range=(1,3))\n",
        "\n",
        "tfidf_matrix = tfidf_model.fit_transform(synopses) #fit the vectorizer to synopses\n",
        "\n",
        "print (\"In total, there are \" + str(tfidf_matrix.shape[0]) + \\\n",
        "      \" synoposes and \" + str(tfidf_matrix.shape[1]) + \" terms.\")"
      ],
      "execution_count": 10,
      "outputs": [
        {
          "output_type": "stream",
          "text": [
            "In total, there are 100 synoposes and 1298 terms.\n"
          ],
          "name": "stdout"
        }
      ]
    },
    {
      "cell_type": "code",
      "metadata": {
        "id": "GoRH6IDVE8Ur",
        "colab_type": "code",
        "outputId": "1617becc-ae63-47c4-f33b-1c9429d949a0",
        "colab": {
          "base_uri": "https://localhost:8080/",
          "height": 380
        }
      },
      "source": [
        "# check the parameters\n",
        "tfidf_model.get_params()"
      ],
      "execution_count": 11,
      "outputs": [
        {
          "output_type": "execute_result",
          "data": {
            "text/plain": [
              "{'analyzer': 'word',\n",
              " 'binary': False,\n",
              " 'decode_error': 'strict',\n",
              " 'dtype': numpy.float64,\n",
              " 'encoding': 'utf-8',\n",
              " 'input': 'content',\n",
              " 'lowercase': True,\n",
              " 'max_df': 0.8,\n",
              " 'max_features': 2000,\n",
              " 'min_df': 0.1,\n",
              " 'ngram_range': (1, 3),\n",
              " 'norm': 'l2',\n",
              " 'preprocessor': None,\n",
              " 'smooth_idf': True,\n",
              " 'stop_words': 'english',\n",
              " 'strip_accents': None,\n",
              " 'sublinear_tf': False,\n",
              " 'token_pattern': '(?u)\\\\b\\\\w\\\\w+\\\\b',\n",
              " 'tokenizer': <function __main__.tokenization_and_stemming>,\n",
              " 'use_idf': True,\n",
              " 'vocabulary': None}"
            ]
          },
          "metadata": {
            "tags": []
          },
          "execution_count": 11
        }
      ]
    },
    {
      "cell_type": "markdown",
      "metadata": {
        "id": "whu1pCOiE8Uv",
        "colab_type": "text"
      },
      "source": [
        "Save the terms identified by TF-IDF."
      ]
    },
    {
      "cell_type": "code",
      "metadata": {
        "id": "lLdKk6n-E8Uw",
        "colab_type": "code",
        "colab": {}
      },
      "source": [
        "# words\n",
        "tf_selected_words = tfidf_model.get_feature_names()"
      ],
      "execution_count": 0,
      "outputs": []
    },
    {
      "cell_type": "code",
      "metadata": {
        "id": "6mWvzNWQFB26",
        "colab_type": "code",
        "outputId": "5f9d58ed-88ac-4410-c9c2-1572b34e350a",
        "colab": {
          "base_uri": "https://localhost:8080/",
          "height": 1000
        }
      },
      "source": [
        "# print out words\n",
        "tf_selected_words"
      ],
      "execution_count": 13,
      "outputs": [
        {
          "output_type": "execute_result",
          "data": {
            "text/plain": [
              "[\"'d\",\n",
              " \"'m\",\n",
              " \"'s apart\",\n",
              " \"'s bodi\",\n",
              " \"'s death\",\n",
              " \"'s face\",\n",
              " \"'s father\",\n",
              " \"'s friend\",\n",
              " \"'s home\",\n",
              " \"'s hous\",\n",
              " \"'s life\",\n",
              " \"'s mother\",\n",
              " \"'s offic\",\n",
              " \"'s plan\",\n",
              " \"'s sister\",\n",
              " \"'s voic\",\n",
              " \"'s wife\",\n",
              " 'abandon',\n",
              " 'abil',\n",
              " 'abl',\n",
              " 'aboard',\n",
              " 'abus',\n",
              " 'accept',\n",
              " 'accid',\n",
              " 'accident',\n",
              " 'accompani',\n",
              " 'accord',\n",
              " 'accus',\n",
              " 'acquaint',\n",
              " 'act',\n",
              " 'action',\n",
              " 'activ',\n",
              " 'actual',\n",
              " 'adam',\n",
              " 'addit',\n",
              " 'address',\n",
              " 'admir',\n",
              " 'admit',\n",
              " 'advanc',\n",
              " 'advantag',\n",
              " 'advic',\n",
              " 'advis',\n",
              " 'affair',\n",
              " 'afraid',\n",
              " 'afternoon',\n",
              " 'afterward',\n",
              " 'age',\n",
              " 'agent',\n",
              " 'ago',\n",
              " 'agre',\n",
              " 'ahead',\n",
              " 'aid',\n",
              " 'aim',\n",
              " 'air',\n",
              " 'airport',\n",
              " 'al',\n",
              " 'alcohol',\n",
              " 'aliv',\n",
              " 'allow',\n",
              " 'alon',\n",
              " 'alreadi',\n",
              " 'alway',\n",
              " 'ambush',\n",
              " 'america',\n",
              " 'american',\n",
              " 'angel',\n",
              " 'anger',\n",
              " 'angri',\n",
              " 'angrili',\n",
              " 'anim',\n",
              " 'announc',\n",
              " 'annoy',\n",
              " 'anoth',\n",
              " 'anoth man',\n",
              " 'answer',\n",
              " 'anymor',\n",
              " 'anyon',\n",
              " 'anyth',\n",
              " 'apart',\n",
              " 'apart build',\n",
              " 'apolog',\n",
              " 'appar',\n",
              " 'appear',\n",
              " 'approach',\n",
              " 'area',\n",
              " 'argu',\n",
              " 'argument',\n",
              " 'arm',\n",
              " 'armi',\n",
              " 'arrang',\n",
              " 'arrest',\n",
              " 'arriv',\n",
              " 'asid',\n",
              " 'ask',\n",
              " 'assault',\n",
              " 'assembl',\n",
              " 'assign',\n",
              " 'assist',\n",
              " 'associ',\n",
              " 'assum',\n",
              " 'assur',\n",
              " 'attack',\n",
              " 'attempt',\n",
              " 'attend',\n",
              " 'attent',\n",
              " 'attitud',\n",
              " 'attract',\n",
              " 'audienc',\n",
              " 'author',\n",
              " 'avail',\n",
              " 'avoid',\n",
              " 'awaken',\n",
              " 'awar',\n",
              " 'away',\n",
              " 'awkward',\n",
              " 'babi',\n",
              " 'bad',\n",
              " 'bag',\n",
              " 'balconi',\n",
              " 'bank',\n",
              " 'bar',\n",
              " 'bare',\n",
              " 'base',\n",
              " 'bathroom',\n",
              " 'battl',\n",
              " 'beat',\n",
              " 'beaten',\n",
              " 'beauti',\n",
              " 'becam',\n",
              " 'becom',\n",
              " 'bed',\n",
              " 'bedroom',\n",
              " 'befriend',\n",
              " 'beg',\n",
              " 'begun',\n",
              " 'behavior',\n",
              " 'believ',\n",
              " 'belong',\n",
              " 'best',\n",
              " 'best friend',\n",
              " 'betray',\n",
              " 'better',\n",
              " 'big',\n",
              " 'bit',\n",
              " 'bitter',\n",
              " 'black',\n",
              " 'blame',\n",
              " 'block',\n",
              " 'blood',\n",
              " 'bloodi',\n",
              " 'blow',\n",
              " 'board',\n",
              " 'boat',\n",
              " 'bodi',\n",
              " 'book',\n",
              " 'boss',\n",
              " 'box',\n",
              " 'boy',\n",
              " 'break',\n",
              " 'bribe',\n",
              " 'bridg',\n",
              " 'brief',\n",
              " 'briefli',\n",
              " 'bring',\n",
              " 'british',\n",
              " 'broke',\n",
              " 'broken',\n",
              " 'brother',\n",
              " 'brought',\n",
              " 'brutal',\n",
              " 'build',\n",
              " 'bullet',\n",
              " 'buri',\n",
              " 'burn',\n",
              " 'burst',\n",
              " 'bus',\n",
              " 'busi',\n",
              " 'buy',\n",
              " 'ca',\n",
              " \"ca n't\",\n",
              " 'california',\n",
              " 'calm',\n",
              " 'came',\n",
              " 'camera',\n",
              " 'camp',\n",
              " 'campaign',\n",
              " 'captain',\n",
              " 'captur',\n",
              " 'car',\n",
              " 'card',\n",
              " 'care',\n",
              " 'career',\n",
              " 'carri',\n",
              " 'case',\n",
              " 'cash',\n",
              " 'catch',\n",
              " 'caught',\n",
              " 'caus',\n",
              " 'celebr',\n",
              " 'cemeteri',\n",
              " 'ceremoni',\n",
              " 'chair',\n",
              " 'challeng',\n",
              " 'chamber',\n",
              " 'chanc',\n",
              " 'chang',\n",
              " 'charact',\n",
              " 'charg',\n",
              " 'chase',\n",
              " 'check',\n",
              " 'cheer',\n",
              " 'chest',\n",
              " 'chief',\n",
              " 'child',\n",
              " 'childhood',\n",
              " 'children',\n",
              " 'choic',\n",
              " 'choos',\n",
              " 'chosen',\n",
              " 'christma',\n",
              " 'church',\n",
              " 'cigarett',\n",
              " 'citi',\n",
              " 'civil',\n",
              " 'claim',\n",
              " 'class',\n",
              " 'clean',\n",
              " 'clear',\n",
              " 'climb',\n",
              " 'close',\n",
              " 'closer',\n",
              " 'cloth',\n",
              " 'club',\n",
              " 'coat',\n",
              " 'cold',\n",
              " 'collaps',\n",
              " 'collect',\n",
              " 'colleg',\n",
              " 'come',\n",
              " 'comfort',\n",
              " 'command',\n",
              " 'comment',\n",
              " 'commit',\n",
              " 'commit suicid',\n",
              " 'communic',\n",
              " 'compani',\n",
              " 'complain',\n",
              " 'complet',\n",
              " 'concern',\n",
              " 'conclud',\n",
              " 'condit',\n",
              " 'conduct',\n",
              " 'confess',\n",
              " 'confid',\n",
              " 'confirm',\n",
              " 'conflict',\n",
              " 'confront',\n",
              " 'confus',\n",
              " 'connect',\n",
              " 'consequ',\n",
              " 'consid',\n",
              " 'constant',\n",
              " 'contact',\n",
              " 'contain',\n",
              " 'continu',\n",
              " 'control',\n",
              " 'convers',\n",
              " 'convinc',\n",
              " 'cop',\n",
              " 'corner',\n",
              " 'corps',\n",
              " 'cost',\n",
              " 'counter',\n",
              " 'countri',\n",
              " 'coupl',\n",
              " 'cours',\n",
              " 'court',\n",
              " 'cover',\n",
              " 'crash',\n",
              " 'crazi',\n",
              " 'creat',\n",
              " 'credit',\n",
              " 'crew',\n",
              " 'cri',\n",
              " 'crime',\n",
              " 'crimin',\n",
              " 'critic',\n",
              " 'cross',\n",
              " 'crowd',\n",
              " 'crush',\n",
              " 'custodi',\n",
              " 'custom',\n",
              " 'cut',\n",
              " 'danc',\n",
              " 'danger',\n",
              " 'dark',\n",
              " 'date',\n",
              " 'daughter',\n",
              " 'david',\n",
              " 'day',\n",
              " 'day later',\n",
              " 'daze',\n",
              " 'dead',\n",
              " 'deal',\n",
              " 'death',\n",
              " 'decid',\n",
              " 'decis',\n",
              " 'declar',\n",
              " 'declin',\n",
              " 'deep',\n",
              " 'deepli',\n",
              " 'defeat',\n",
              " 'defend',\n",
              " 'deliv',\n",
              " 'demand',\n",
              " 'demonstr',\n",
              " 'deni',\n",
              " 'depart',\n",
              " 'depress',\n",
              " 'descend',\n",
              " 'describ',\n",
              " 'desert',\n",
              " 'desir',\n",
              " 'desper',\n",
              " 'despit',\n",
              " 'destin',\n",
              " 'destroy',\n",
              " 'detect',\n",
              " 'determin',\n",
              " 'devast',\n",
              " 'develop',\n",
              " 'die',\n",
              " 'differ',\n",
              " 'difficult',\n",
              " 'dig',\n",
              " 'dinner',\n",
              " 'direct',\n",
              " 'disappear',\n",
              " 'discov',\n",
              " 'discuss',\n",
              " 'dislik',\n",
              " 'dismay',\n",
              " 'dismiss',\n",
              " 'display',\n",
              " 'distanc',\n",
              " 'distract',\n",
              " 'distraught',\n",
              " 'distress',\n",
              " 'disturb',\n",
              " 'divorc',\n",
              " 'dock',\n",
              " 'doctor',\n",
              " 'dog',\n",
              " 'dollar',\n",
              " 'domin',\n",
              " 'door',\n",
              " 'doubl',\n",
              " 'dr.',\n",
              " 'drag',\n",
              " 'draw',\n",
              " 'drawn',\n",
              " 'dream',\n",
              " 'dress',\n",
              " 'drink',\n",
              " 'drive',\n",
              " 'drive away',\n",
              " 'driven',\n",
              " 'driver',\n",
              " 'drop',\n",
              " 'drown',\n",
              " 'drug',\n",
              " 'drunk',\n",
              " 'drunken',\n",
              " 'duti',\n",
              " 'eager',\n",
              " 'earli',\n",
              " 'earlier',\n",
              " 'earn',\n",
              " 'east',\n",
              " 'eat',\n",
              " 'edg',\n",
              " 'effect',\n",
              " 'effort',\n",
              " 'elder',\n",
              " 'els',\n",
              " 'embarrass',\n",
              " 'embrac',\n",
              " 'emerg',\n",
              " 'emot',\n",
              " 'empti',\n",
              " 'encount',\n",
              " 'encourag',\n",
              " 'end',\n",
              " 'enemi',\n",
              " 'engag',\n",
              " 'english',\n",
              " 'enjoy',\n",
              " 'enlist',\n",
              " 'enrag',\n",
              " 'ensu',\n",
              " 'enter',\n",
              " 'entir',\n",
              " 'entranc',\n",
              " 'erupt',\n",
              " 'escap',\n",
              " 'escort',\n",
              " 'especi',\n",
              " 'establish',\n",
              " 'estat',\n",
              " 'eve',\n",
              " 'event',\n",
              " 'eventu',\n",
              " 'everi',\n",
              " 'everyon',\n",
              " 'everyth',\n",
              " 'evid',\n",
              " 'evil',\n",
              " 'exact',\n",
              " 'examin',\n",
              " 'exchang',\n",
              " 'excit',\n",
              " 'execut',\n",
              " 'exhaust',\n",
              " 'exist',\n",
              " 'exit',\n",
              " 'expect',\n",
              " 'expens',\n",
              " 'experi',\n",
              " 'explain',\n",
              " 'explod',\n",
              " 'exploit',\n",
              " 'explos',\n",
              " 'expos',\n",
              " 'express',\n",
              " 'extrem',\n",
              " 'eye',\n",
              " 'face',\n",
              " 'fact',\n",
              " 'fade',\n",
              " 'fail',\n",
              " 'fair',\n",
              " 'fake',\n",
              " 'fall',\n",
              " 'fall love',\n",
              " 'fallen',\n",
              " 'fals',\n",
              " 'famili',\n",
              " \"famili 's\",\n",
              " 'famous',\n",
              " 'far',\n",
              " 'farm',\n",
              " 'fatal',\n",
              " 'fate',\n",
              " 'father',\n",
              " \"father 's\",\n",
              " 'favor',\n",
              " 'fear',\n",
              " 'feel',\n",
              " 'feet',\n",
              " 'fellow',\n",
              " 'femal',\n",
              " 'field',\n",
              " 'fight',\n",
              " 'figur',\n",
              " 'film',\n",
              " \"film 's\",\n",
              " 'film end',\n",
              " 'film open',\n",
              " 'final',\n",
              " 'final scene',\n",
              " 'financi',\n",
              " 'fine',\n",
              " 'finish',\n",
              " 'fit',\n",
              " 'flash',\n",
              " 'flashback',\n",
              " 'flee',\n",
              " 'fli',\n",
              " 'flight',\n",
              " 'float',\n",
              " 'floor',\n",
              " 'flower',\n",
              " 'focus',\n",
              " 'follow',\n",
              " 'food',\n",
              " 'foot',\n",
              " 'forc',\n",
              " 'forget',\n",
              " 'form',\n",
              " 'fortun',\n",
              " 'forward',\n",
              " 'frank',\n",
              " 'free',\n",
              " 'freedom',\n",
              " 'french',\n",
              " 'fresh',\n",
              " 'friend',\n",
              " 'friendship',\n",
              " 'frustrat',\n",
              " 'funer',\n",
              " 'furious',\n",
              " 'futur',\n",
              " 'gain',\n",
              " 'game',\n",
              " 'gang',\n",
              " 'garden',\n",
              " 'gas',\n",
              " 'gather',\n",
              " 'gave',\n",
              " 'general',\n",
              " 'georg',\n",
              " 'german',\n",
              " 'gift',\n",
              " 'girl',\n",
              " 'girlfriend',\n",
              " 'given',\n",
              " 'glass',\n",
              " 'god',\n",
              " 'goe',\n",
              " 'gone',\n",
              " 'good',\n",
              " 'goodby',\n",
              " 'got',\n",
              " 'gotten',\n",
              " 'govern',\n",
              " 'grab',\n",
              " 'grant',\n",
              " 'grave',\n",
              " 'great',\n",
              " 'green',\n",
              " 'greet',\n",
              " 'ground',\n",
              " 'group',\n",
              " 'grow',\n",
              " 'guard',\n",
              " 'guest',\n",
              " 'gun',\n",
              " 'gunpoint',\n",
              " 'guy',\n",
              " 'half',\n",
              " 'hall',\n",
              " 'hand',\n",
              " 'handl',\n",
              " 'hang',\n",
              " 'happen',\n",
              " 'happi',\n",
              " 'hard',\n",
              " 'harm',\n",
              " 'harri',\n",
              " 'harsh',\n",
              " 'head',\n",
              " 'hear',\n",
              " 'heard',\n",
              " 'heart',\n",
              " 'heat',\n",
              " 'heavi',\n",
              " 'held',\n",
              " 'help',\n",
              " 'henri',\n",
              " 'hero',\n",
              " 'hesit',\n",
              " 'hidden',\n",
              " 'hide',\n",
              " 'high',\n",
              " 'hill',\n",
              " 'hire',\n",
              " 'hit',\n",
              " 'hold',\n",
              " 'hole',\n",
              " 'home',\n",
              " 'hometown',\n",
              " 'honor',\n",
              " 'hope',\n",
              " 'horrifi',\n",
              " 'horror',\n",
              " 'hors',\n",
              " 'hospit',\n",
              " 'hot',\n",
              " 'hotel',\n",
              " 'hour',\n",
              " 'hous',\n",
              " 'howev',\n",
              " 'huge',\n",
              " 'human',\n",
              " 'humili',\n",
              " 'hundr',\n",
              " 'hunt',\n",
              " 'hurri',\n",
              " 'hurt',\n",
              " 'husband',\n",
              " 'idea',\n",
              " 'ident',\n",
              " 'identifi',\n",
              " 'ignor',\n",
              " 'ii',\n",
              " 'ill',\n",
              " 'imag',\n",
              " 'immedi',\n",
              " 'impli',\n",
              " 'import',\n",
              " 'imposs',\n",
              " 'impress',\n",
              " 'incid',\n",
              " 'includ',\n",
              " 'increas',\n",
              " 'inde',\n",
              " 'indic',\n",
              " 'inform',\n",
              " 'infuri',\n",
              " 'initi',\n",
              " 'injur',\n",
              " 'injuri',\n",
              " 'innoc',\n",
              " 'insid',\n",
              " 'insist',\n",
              " 'instant',\n",
              " 'instead',\n",
              " 'instruct',\n",
              " 'insult',\n",
              " 'intend',\n",
              " 'intens',\n",
              " 'intent',\n",
              " 'interrog',\n",
              " 'interrupt',\n",
              " 'interven',\n",
              " 'interview',\n",
              " 'introduc',\n",
              " 'investig',\n",
              " 'invit',\n",
              " 'involv',\n",
              " 'island',\n",
              " 'jack',\n",
              " 'jail',\n",
              " 'jame',\n",
              " 'jean',\n",
              " 'job',\n",
              " 'joe',\n",
              " 'john',\n",
              " 'join',\n",
              " 'joke',\n",
              " 'journey',\n",
              " 'judg',\n",
              " 'jump',\n",
              " 'kept',\n",
              " 'key',\n",
              " 'kick',\n",
              " 'kid',\n",
              " 'kill',\n",
              " 'killer',\n",
              " 'king',\n",
              " 'kiss',\n",
              " 'knew',\n",
              " 'knife',\n",
              " 'knock',\n",
              " 'know',\n",
              " 'knowledg',\n",
              " 'known',\n",
              " 'labor',\n",
              " 'lack',\n",
              " 'ladi',\n",
              " 'land',\n",
              " 'larg',\n",
              " 'late',\n",
              " 'later night',\n",
              " 'laugh',\n",
              " 'law',\n",
              " 'lead',\n",
              " 'leader',\n",
              " 'learn',\n",
              " 'led',\n",
              " 'lee',\n",
              " 'left',\n",
              " 'leg',\n",
              " 'let',\n",
              " 'letter',\n",
              " 'level',\n",
              " 'lie',\n",
              " 'lieuten',\n",
              " 'life',\n",
              " 'lift',\n",
              " 'light',\n",
              " 'like',\n",
              " 'line',\n",
              " 'list',\n",
              " 'listen',\n",
              " 'littl',\n",
              " 'live',\n",
              " 'll',\n",
              " 'load',\n",
              " 'loan',\n",
              " 'local',\n",
              " 'locat',\n",
              " 'lock',\n",
              " 'lone',\n",
              " 'long',\n",
              " 'longer',\n",
              " 'look',\n",
              " 'los',\n",
              " 'los angel',\n",
              " 'lose',\n",
              " 'loss',\n",
              " 'lost',\n",
              " 'lot',\n",
              " 'loud',\n",
              " 'love',\n",
              " 'lover',\n",
              " 'lower',\n",
              " 'machin',\n",
              " 'mad',\n",
              " 'main',\n",
              " 'maintain',\n",
              " 'major',\n",
              " 'make way',\n",
              " 'male',\n",
              " \"man 's\",\n",
              " 'manag',\n",
              " 'mani',\n",
              " 'manner',\n",
              " 'march',\n",
              " 'mari',\n",
              " 'mark',\n",
              " 'marri',\n",
              " 'marriag',\n",
              " 'marshal',\n",
              " 'martin',\n",
              " 'match',\n",
              " 'matter',\n",
              " 'mean',\n",
              " 'meanwhil',\n",
              " 'medic',\n",
              " 'meet',\n",
              " 'member',\n",
              " 'memori',\n",
              " 'men',\n",
              " 'mental',\n",
              " 'mention',\n",
              " 'messag',\n",
              " 'met',\n",
              " 'mexico',\n",
              " 'michael',\n",
              " 'middl',\n",
              " 'mile',\n",
              " 'militari',\n",
              " 'million',\n",
              " 'mind',\n",
              " 'minut',\n",
              " 'miss',\n",
              " 'mission',\n",
              " 'mistak',\n",
              " 'mob',\n",
              " 'mock',\n",
              " 'moment',\n",
              " 'money',\n",
              " 'month',\n",
              " 'month later',\n",
              " 'morn',\n",
              " 'mother',\n",
              " \"mother 's\",\n",
              " 'motiv',\n",
              " 'mountain',\n",
              " 'mouth',\n",
              " 'movi',\n",
              " 'mr.',\n",
              " 'mrs.',\n",
              " 'murder',\n",
              " 'music',\n",
              " 'mysteri',\n",
              " \"n't\",\n",
              " \"n't believ\",\n",
              " \"n't know\",\n",
              " \"n't want\",\n",
              " 'narrowli',\n",
              " 'natur',\n",
              " 'near',\n",
              " 'nearbi',\n",
              " 'neck',\n",
              " 'need',\n",
              " 'neighbor',\n",
              " 'neighborhood',\n",
              " 'nervous',\n",
              " 'new',\n",
              " 'new york',\n",
              " 'new york citi',\n",
              " 'newli',\n",
              " 'news',\n",
              " 'newspap',\n",
              " 'night',\n",
              " 'nobodi',\n",
              " 'nois',\n",
              " 'note',\n",
              " 'noth',\n",
              " 'notic',\n",
              " 'number',\n",
              " 'nurs',\n",
              " 'object',\n",
              " 'observ',\n",
              " 'obvious',\n",
              " 'occupi',\n",
              " 'occur',\n",
              " 'offer',\n",
              " 'offic',\n",
              " 'offici',\n",
              " 'old',\n",
              " 'old friend',\n",
              " 'older',\n",
              " 'open',\n",
              " 'open door',\n",
              " 'oper',\n",
              " 'opportun',\n",
              " 'order',\n",
              " 'organ',\n",
              " 'origin',\n",
              " 'outsid',\n",
              " 'overcom',\n",
              " 'overhear',\n",
              " 'owner',\n",
              " 'pack',\n",
              " 'paid',\n",
              " 'pain',\n",
              " 'pair',\n",
              " 'panic',\n",
              " 'paper',\n",
              " 'parent',\n",
              " 'park',\n",
              " 'parti',\n",
              " 'particular',\n",
              " 'partner',\n",
              " 'pass',\n",
              " 'past',\n",
              " 'paul',\n",
              " 'pay',\n",
              " 'peac',\n",
              " 'peopl',\n",
              " 'perform',\n",
              " 'person',\n",
              " 'persuad',\n",
              " 'peter',\n",
              " 'phone',\n",
              " 'photograph',\n",
              " 'physic',\n",
              " 'pick',\n",
              " 'pictur',\n",
              " 'piec',\n",
              " 'pilot',\n",
              " 'pistol',\n",
              " 'place',\n",
              " 'plan',\n",
              " 'plane',\n",
              " 'play',\n",
              " 'plead',\n",
              " 'pleas',\n",
              " 'pocket',\n",
              " 'point',\n",
              " 'polic',\n",
              " 'polit',\n",
              " 'pool',\n",
              " 'poor',\n",
              " 'pop',\n",
              " 'pose',\n",
              " 'posit',\n",
              " 'possess',\n",
              " 'possibl',\n",
              " 'post',\n",
              " 'potenti',\n",
              " 'power',\n",
              " 'practic',\n",
              " 'prefer',\n",
              " 'pregnant',\n",
              " 'prepar',\n",
              " 'presenc',\n",
              " 'present',\n",
              " 'presid',\n",
              " 'press',\n",
              " 'pressur',\n",
              " 'presum',\n",
              " 'pretend',\n",
              " 'prevent',\n",
              " 'previous',\n",
              " 'prison',\n",
              " 'privat',\n",
              " 'probabl',\n",
              " 'problem',\n",
              " 'proceed',\n",
              " 'process',\n",
              " 'proclaim',\n",
              " 'produc',\n",
              " 'progress',\n",
              " 'promis',\n",
              " 'proper',\n",
              " 'propos',\n",
              " 'protect',\n",
              " 'protest',\n",
              " 'proud',\n",
              " 'prove',\n",
              " 'provid',\n",
              " 'public',\n",
              " 'pull',\n",
              " 'punch',\n",
              " 'punish',\n",
              " 'purchas',\n",
              " 'purpos',\n",
              " 'pursu',\n",
              " 'pursuit',\n",
              " 'push',\n",
              " 'question',\n",
              " 'quick',\n",
              " 'quiet',\n",
              " 'quit',\n",
              " 'race',\n",
              " 'radio',\n",
              " 'rage',\n",
              " 'rain',\n",
              " 'rais',\n",
              " 'rape',\n",
              " 'reach',\n",
              " 'read',\n",
              " 'readi',\n",
              " 'real',\n",
              " 'realiz',\n",
              " 'realli',\n",
              " 'reason',\n",
              " 'reassur',\n",
              " 'receiv',\n",
              " 'recent',\n",
              " 'recogn',\n",
              " 'record',\n",
              " 'recov',\n",
              " 'red',\n",
              " 'refer',\n",
              " 'refus',\n",
              " 'regard',\n",
              " 'regular',\n",
              " 'reject',\n",
              " 'relat',\n",
              " 'relationship',\n",
              " 'releas',\n",
              " 'relent',\n",
              " 'reluct',\n",
              " 'reluct agre',\n",
              " 'remain',\n",
              " 'remark',\n",
              " 'rememb',\n",
              " 'remind',\n",
              " 'remov',\n",
              " 'repeat',\n",
              " 'replac',\n",
              " 'repli',\n",
              " 'report',\n",
              " 'reput',\n",
              " 'request',\n",
              " 'rescu',\n",
              " 'resent',\n",
              " 'resid',\n",
              " 'resist',\n",
              " 'resolv',\n",
              " 'respect',\n",
              " 'respond',\n",
              " 'respons',\n",
              " 'rest',\n",
              " 'restaur',\n",
              " 'result',\n",
              " 'retali',\n",
              " 'retir',\n",
              " 'retreat',\n",
              " 'retriev',\n",
              " 'return home',\n",
              " 'reunit',\n",
              " 'reveal',\n",
              " 'reveng',\n",
              " 'revolv',\n",
              " 'reward',\n",
              " 'rich',\n",
              " 'richard',\n",
              " 'ride',\n",
              " 'rifl',\n",
              " 'right',\n",
              " 'ring',\n",
              " 'rise',\n",
              " 'risk',\n",
              " 'rival',\n",
              " 'river',\n",
              " 'road',\n",
              " 'rob',\n",
              " 'robert',\n",
              " 'rock',\n",
              " 'role',\n",
              " 'roll',\n",
              " 'romant',\n",
              " 'room',\n",
              " 'round',\n",
              " 'rout',\n",
              " 'routin',\n",
              " 'ruin',\n",
              " 'rule',\n",
              " 'run',\n",
              " 'run away',\n",
              " 'rush',\n",
              " 'russian',\n",
              " 'safe',\n",
              " 'safeti',\n",
              " ...]"
            ]
          },
          "metadata": {
            "tags": []
          },
          "execution_count": 13
        }
      ]
    },
    {
      "cell_type": "code",
      "metadata": {
        "id": "k6JFh-1BE8Uy",
        "colab_type": "code",
        "outputId": "d83d5d56-edfb-4b88-e734-b0ab4e4fb0f4",
        "colab": {
          "base_uri": "https://localhost:8080/",
          "height": 52
        }
      },
      "source": [
        "# tf-idf matrix\n",
        "tfidf_matrix"
      ],
      "execution_count": 14,
      "outputs": [
        {
          "output_type": "execute_result",
          "data": {
            "text/plain": [
              "<100x1298 sparse matrix of type '<class 'numpy.float64'>'\n",
              "\twith 29463 stored elements in Compressed Sparse Row format>"
            ]
          },
          "metadata": {
            "tags": []
          },
          "execution_count": 14
        }
      ]
    },
    {
      "cell_type": "markdown",
      "metadata": {
        "id": "1hPhgwSeE8U4",
        "colab_type": "text"
      },
      "source": [
        "# Calculate Document Similarity"
      ]
    },
    {
      "cell_type": "code",
      "metadata": {
        "scrolled": true,
        "id": "NI1CN6m6E8U5",
        "colab_type": "code",
        "outputId": "cb2cbea4-58a9-41cf-d0d8-93543b2246af",
        "colab": {
          "base_uri": "https://localhost:8080/",
          "height": 138
        }
      },
      "source": [
        "# use cosine similarity to check the similarity for two documents\n",
        "from sklearn.metrics.pairwise import cosine_similarity\n",
        "cos_matrix = cosine_similarity(tfidf_matrix)\n",
        "print (cos_matrix)"
      ],
      "execution_count": 15,
      "outputs": [
        {
          "output_type": "stream",
          "text": [
            "[[1.         0.07116799 0.08657755 ... 0.07216231 0.11667925 0.07549267]\n",
            " [0.07116799 1.         0.23695377 ... 0.07000843 0.11023514 0.05530459]\n",
            " [0.08657755 0.23695377 1.         ... 0.08748725 0.11087731 0.12021827]\n",
            " ...\n",
            " [0.07216231 0.07000843 0.08748725 ... 1.         0.15309303 0.09370613]\n",
            " [0.11667925 0.11023514 0.11087731 ... 0.15309303 1.         0.0690711 ]\n",
            " [0.07549267 0.05530459 0.12021827 ... 0.09370613 0.0690711  1.        ]]\n"
          ],
          "name": "stdout"
        }
      ]
    },
    {
      "cell_type": "markdown",
      "metadata": {
        "id": "XEcwtws5E8U8",
        "colab_type": "text"
      },
      "source": [
        "# Part 4: K-means clustering"
      ]
    },
    {
      "cell_type": "code",
      "metadata": {
        "scrolled": true,
        "id": "7LJQ5i3IE8U9",
        "colab_type": "code",
        "colab": {}
      },
      "source": [
        "# k-means clustering\n",
        "from sklearn.cluster import KMeans\n",
        "\n",
        "# number of clusters\n",
        "km = KMeans(n_clusters=5)\n",
        "km.fit(tfidf_matrix)\n",
        "\n",
        "clusters = km.labels_.tolist()"
      ],
      "execution_count": 0,
      "outputs": []
    },
    {
      "cell_type": "markdown",
      "metadata": {
        "id": "fboVpRAfE8U-",
        "colab_type": "text"
      },
      "source": [
        "## 4.1. Analyze K-means Result"
      ]
    },
    {
      "cell_type": "code",
      "metadata": {
        "id": "KGs4aIIME8U_",
        "colab_type": "code",
        "colab": {}
      },
      "source": [
        "# create DataFrame films from all of the input files.\n",
        "films = { 'title': titles, 'rank': ranks, 'synopsis': synopses, 'cluster': clusters}\n",
        "frame = pd.DataFrame(films, index = [clusters] , columns = ['rank', 'title', 'cluster'])"
      ],
      "execution_count": 0,
      "outputs": []
    },
    {
      "cell_type": "code",
      "metadata": {
        "id": "APmEUmm6E8VC",
        "colab_type": "code",
        "outputId": "dee30e28-bee1-4ea8-de95-593703821704",
        "colab": {
          "base_uri": "https://localhost:8080/",
          "height": 349
        }
      },
      "source": [
        "frame.head(10)"
      ],
      "execution_count": 18,
      "outputs": [
        {
          "output_type": "execute_result",
          "data": {
            "text/html": [
              "<div>\n",
              "<style scoped>\n",
              "    .dataframe tbody tr th:only-of-type {\n",
              "        vertical-align: middle;\n",
              "    }\n",
              "\n",
              "    .dataframe tbody tr th {\n",
              "        vertical-align: top;\n",
              "    }\n",
              "\n",
              "    .dataframe thead th {\n",
              "        text-align: right;\n",
              "    }\n",
              "</style>\n",
              "<table border=\"1\" class=\"dataframe\">\n",
              "  <thead>\n",
              "    <tr style=\"text-align: right;\">\n",
              "      <th></th>\n",
              "      <th>rank</th>\n",
              "      <th>title</th>\n",
              "      <th>cluster</th>\n",
              "    </tr>\n",
              "  </thead>\n",
              "  <tbody>\n",
              "    <tr>\n",
              "      <th>1</th>\n",
              "      <td>0</td>\n",
              "      <td>The Godfather</td>\n",
              "      <td>1</td>\n",
              "    </tr>\n",
              "    <tr>\n",
              "      <th>1</th>\n",
              "      <td>1</td>\n",
              "      <td>The Shawshank Redemption</td>\n",
              "      <td>1</td>\n",
              "    </tr>\n",
              "    <tr>\n",
              "      <th>0</th>\n",
              "      <td>2</td>\n",
              "      <td>Schindler's List</td>\n",
              "      <td>0</td>\n",
              "    </tr>\n",
              "    <tr>\n",
              "      <th>1</th>\n",
              "      <td>3</td>\n",
              "      <td>Raging Bull</td>\n",
              "      <td>1</td>\n",
              "    </tr>\n",
              "    <tr>\n",
              "      <th>0</th>\n",
              "      <td>4</td>\n",
              "      <td>Casablanca</td>\n",
              "      <td>0</td>\n",
              "    </tr>\n",
              "    <tr>\n",
              "      <th>1</th>\n",
              "      <td>5</td>\n",
              "      <td>One Flew Over the Cuckoo's Nest</td>\n",
              "      <td>1</td>\n",
              "    </tr>\n",
              "    <tr>\n",
              "      <th>1</th>\n",
              "      <td>6</td>\n",
              "      <td>Gone with the Wind</td>\n",
              "      <td>1</td>\n",
              "    </tr>\n",
              "    <tr>\n",
              "      <th>1</th>\n",
              "      <td>7</td>\n",
              "      <td>Citizen Kane</td>\n",
              "      <td>1</td>\n",
              "    </tr>\n",
              "    <tr>\n",
              "      <th>3</th>\n",
              "      <td>8</td>\n",
              "      <td>The Wizard of Oz</td>\n",
              "      <td>3</td>\n",
              "    </tr>\n",
              "    <tr>\n",
              "      <th>3</th>\n",
              "      <td>9</td>\n",
              "      <td>Titanic</td>\n",
              "      <td>3</td>\n",
              "    </tr>\n",
              "  </tbody>\n",
              "</table>\n",
              "</div>"
            ],
            "text/plain": [
              "   rank                            title  cluster\n",
              "1     0                    The Godfather        1\n",
              "1     1         The Shawshank Redemption        1\n",
              "0     2                 Schindler's List        0\n",
              "1     3                      Raging Bull        1\n",
              "0     4                       Casablanca        0\n",
              "1     5  One Flew Over the Cuckoo's Nest        1\n",
              "1     6               Gone with the Wind        1\n",
              "1     7                     Citizen Kane        1\n",
              "3     8                 The Wizard of Oz        3\n",
              "3     9                          Titanic        3"
            ]
          },
          "metadata": {
            "tags": []
          },
          "execution_count": 18
        }
      ]
    },
    {
      "cell_type": "code",
      "metadata": {
        "id": "Ht1SbbOSE8VE",
        "colab_type": "code",
        "outputId": "f575a475-b8ec-4cc7-b81d-5bb415641816",
        "colab": {
          "base_uri": "https://localhost:8080/",
          "height": 216
        }
      },
      "source": [
        "print (\"Number of films included in each cluster:\")\n",
        "frame['cluster'].value_counts().to_frame()"
      ],
      "execution_count": 19,
      "outputs": [
        {
          "output_type": "stream",
          "text": [
            "Number of films included in each cluster:\n"
          ],
          "name": "stdout"
        },
        {
          "output_type": "execute_result",
          "data": {
            "text/html": [
              "<div>\n",
              "<style scoped>\n",
              "    .dataframe tbody tr th:only-of-type {\n",
              "        vertical-align: middle;\n",
              "    }\n",
              "\n",
              "    .dataframe tbody tr th {\n",
              "        vertical-align: top;\n",
              "    }\n",
              "\n",
              "    .dataframe thead th {\n",
              "        text-align: right;\n",
              "    }\n",
              "</style>\n",
              "<table border=\"1\" class=\"dataframe\">\n",
              "  <thead>\n",
              "    <tr style=\"text-align: right;\">\n",
              "      <th></th>\n",
              "      <th>cluster</th>\n",
              "    </tr>\n",
              "  </thead>\n",
              "  <tbody>\n",
              "    <tr>\n",
              "      <th>1</th>\n",
              "      <td>54</td>\n",
              "    </tr>\n",
              "    <tr>\n",
              "      <th>3</th>\n",
              "      <td>26</td>\n",
              "    </tr>\n",
              "    <tr>\n",
              "      <th>0</th>\n",
              "      <td>12</td>\n",
              "    </tr>\n",
              "    <tr>\n",
              "      <th>2</th>\n",
              "      <td>5</td>\n",
              "    </tr>\n",
              "    <tr>\n",
              "      <th>4</th>\n",
              "      <td>3</td>\n",
              "    </tr>\n",
              "  </tbody>\n",
              "</table>\n",
              "</div>"
            ],
            "text/plain": [
              "   cluster\n",
              "1       54\n",
              "3       26\n",
              "0       12\n",
              "2        5\n",
              "4        3"
            ]
          },
          "metadata": {
            "tags": []
          },
          "execution_count": 19
        }
      ]
    },
    {
      "cell_type": "code",
      "metadata": {
        "scrolled": false,
        "id": "PEk3P4BTE8VI",
        "colab_type": "code",
        "outputId": "1fa9141a-2e3e-474d-8104-c699ab559ac1",
        "colab": {
          "base_uri": "https://localhost:8080/",
          "height": 400
        }
      },
      "source": [
        "print (\"<Document clustering result by K-means>\")\n",
        "\n",
        "#km.cluster_centers_ denotes the importances of each items in centroid.\n",
        "#We need to sort it in decreasing-order and get the top k items.\n",
        "order_centroids = km.cluster_centers_.argsort()[:, ::-1] \n",
        "\n",
        "Cluster_keywords_summary = {}\n",
        "for i in range(5):\n",
        "    print (\"Cluster \" + str(i) + \" words:\", end='')\n",
        "    Cluster_keywords_summary[i] = []\n",
        "    for ind in order_centroids[i, :6]: #replace 6 with n words per cluster\n",
        "        Cluster_keywords_summary[i].append(vocab_frame_dict[tf_selected_words[ind]])\n",
        "        print (vocab_frame_dict[tf_selected_words[ind]] + \",\", end='')\n",
        "    print ()\n",
        "    #Here ix means index, which is the clusterID of each item.\n",
        "    #Without tolist, the values result from dataframe is <type 'numpy.ndarray'>\n",
        "    cluster_movies = frame.ix[i]['title'].values.tolist()\n",
        "    print (\"Cluster \" + str(i) + \" titles (\" + str(len(cluster_movies)) + \" movies): \")\n",
        "    print (\", \".join(cluster_movies))\n",
        "    print ()"
      ],
      "execution_count": 20,
      "outputs": [
        {
          "output_type": "stream",
          "text": [
            "<Document clustering result by K-means>\n",
            "Cluster 0 words:german,captain,war,army,soldiers,sam,\n",
            "Cluster 0 titles (12 movies): \n",
            "Schindler's List, Casablanca, The Sound of Music, The Lord of the Rings: The Return of the King, Saving Private Ryan, Doctor Zhivago, Patton, The Pianist, All Quiet on the Western Front, Out of Africa, The African Queen, Yankee Doodle Dandy\n",
            "\n",
            "Cluster 1 words:michael,father,car,friend,love,home,\n",
            "Cluster 1 titles (54 movies): \n",
            "The Godfather, The Shawshank Redemption, Raging Bull, One Flew Over the Cuckoo's Nest, Gone with the Wind, Citizen Kane, The Godfather: Part II, Psycho, Vertigo, On the Waterfront, Forrest Gump, West Side Story, E.T. the Extra-Terrestrial, The Silence of the Lambs, Chinatown, Singin' in the Rain, It's a Wonderful Life, 12 Angry Men, Amadeus, Gandhi, Unforgiven, Rocky, A Streetcar Named Desire, To Kill a Mockingbird, My Fair Lady, The Good, the Bad and the Ugly, Butch Cassidy and the Sundance Kid, The Apartment, High Noon, The Exorcist, The Deer Hunter, The King's Speech, It Happened One Night, Mr. Smith Goes to Washington, Rain Man, Annie Hall, Good Will Hunting, Terms of Endearment, Tootsie, Fargo, Giant, The Green Mile, Nashville, The Graduate, American Graffiti, Pulp Fiction, A Clockwork Orange, Taxi Driver, Wuthering Heights, Double Indemnity, Rebel Without a Cause, Rear Window, The Third Man, North by Northwest\n",
            "\n",
            "Cluster 2 words:henry,family,tom,drug,wedding,car,\n",
            "Cluster 2 titles (5 movies): \n",
            "The Philadelphia Story, An American in Paris, Goodfellas, The French Connection, The Grapes of Wrath\n",
            "\n",
            "Cluster 3 words:killing,army,ship,office,orders,commanded,\n",
            "Cluster 3 titles (26 movies): \n",
            "The Wizard of Oz, Titanic, Lawrence of Arabia, Star Wars, 2001: A Space Odyssey, The Bridge on the River Kwai, Dr. Strangelove or: How I Learned to Stop Worrying and Love the Bomb, Apocalypse Now, Gladiator, From Here to Eternity, Raiders of the Lost Ark, The Best Years of Our Lives, Ben-Hur, Jaws, Braveheart, The Treasure of the Sierra Madre, Platoon, Dances with Wolves, City Lights, A Place in the Sun, Shane, Close Encounters of the Third Kind, Network, Stagecoach, Mutiny on the Bounty, The Maltese Falcon\n",
            "\n",
            "Cluster 4 words:joe,filmed,hotel,party,room,car,\n",
            "Cluster 4 titles (3 movies): \n",
            "Sunset Blvd., Some Like It Hot, Midnight Cowboy\n",
            "\n"
          ],
          "name": "stdout"
        }
      ]
    },
    {
      "cell_type": "markdown",
      "metadata": {
        "id": "DdpmzonWE8VM",
        "colab_type": "text"
      },
      "source": [
        "## 4.2. Plot K-means Result"
      ]
    },
    {
      "cell_type": "code",
      "metadata": {
        "id": "a66VxmlYE8VM",
        "colab_type": "code",
        "colab": {}
      },
      "source": [
        "# use pca to reduce dimensions to 2d for visibility, just want to see if there 2d can give us some insights\n",
        "# this is not an appropriate method, just a guess.\n",
        "pca = decomposition.PCA(n_components=2)\n",
        "tfidf_matrix_np=tfidf_matrix.toarray()\n",
        "pca.fit(tfidf_matrix_np)\n",
        "X = pca.transform(tfidf_matrix_np)\n",
        "\n",
        "xs, ys = X[:, 0], X[:, 1]\n",
        "\n",
        "#set up colors per clusters using a dict\n",
        "cluster_colors = {0: '#1b9e77', 1: '#d95f02', 2: '#7570b3', 3: '#e7298a', 4: '#66a61e'}\n",
        "#set up cluster names using a dict\n",
        "cluster_names = {}\n",
        "for i in range(5):\n",
        "    cluster_names[i] = \", \".join(Cluster_keywords_summary[i])"
      ],
      "execution_count": 0,
      "outputs": []
    },
    {
      "cell_type": "code",
      "metadata": {
        "scrolled": false,
        "id": "829bBRgEE8VP",
        "colab_type": "code",
        "colab": {
          "base_uri": "https://localhost:8080/",
          "height": 537
        },
        "outputId": "e5c97fcf-3708-4bfd-8d66-4fa002a2af10"
      },
      "source": [
        "# %matplotlib inline \n",
        "\n",
        "#create data frame with PCA cluster results\n",
        "df = pd.DataFrame(dict(x=xs, y=ys, label=clusters, title=titles)) \n",
        "groups = df.groupby(clusters)\n",
        "\n",
        "# set up plot\n",
        "fig, ax = plt.subplots(figsize=(16, 9))\n",
        "#Set color for each cluster/group\n",
        "for name, group in groups:\n",
        "    ax.plot(group.x, group.y, marker='o', linestyle='', ms=12, \n",
        "            label=cluster_names[name], color=cluster_colors[name], \n",
        "            mec='none')\n",
        "\n",
        "ax.legend(numpoints=1,loc=4)  #show legend with only 1 point, position is right bottom.\n",
        "\n",
        "plt.show() #show the plot"
      ],
      "execution_count": 24,
      "outputs": [
        {
          "output_type": "display_data",
          "data": {
            "image/png": "[encoded data removed]",
            "text/plain": [
              "<Figure size 1152x648 with 1 Axes>"
            ]
          },
          "metadata": {
            "tags": []
          }
        }
      ]
    },
    {
      "cell_type": "code",
      "metadata": {
        "id": "InZXGIXhE8VT",
        "colab_type": "code",
        "colab": {}
      },
      "source": [
        "plt.close()"
      ],
      "execution_count": 0,
      "outputs": []
    },
    {
      "cell_type": "markdown",
      "metadata": {
        "id": "oYOZXL53E8VV",
        "colab_type": "text"
      },
      "source": [
        "# Part 5: Topic Modeling - Latent Dirichlet Allocation"
      ]
    },
    {
      "cell_type": "code",
      "metadata": {
        "id": "lBPVbFNFE8VW",
        "colab_type": "code",
        "colab": {}
      },
      "source": [
        "# Use LDA for clustering\n",
        "from sklearn.decomposition import LatentDirichletAllocation\n",
        "lda = LatentDirichletAllocation(n_components=5, learning_method = 'online')"
      ],
      "execution_count": 0,
      "outputs": []
    },
    {
      "cell_type": "code",
      "metadata": {
        "id": "L5YYz__7E8VY",
        "colab_type": "code",
        "colab": {}
      },
      "source": [
        "# LDA requires integer values, keep first 3 digits\n",
        "tfidf_matrix_lda = (tfidf_matrix * 100)\n",
        "tfidf_matrix_lda = tfidf_matrix_lda.astype(int)"
      ],
      "execution_count": 0,
      "outputs": []
    },
    {
      "cell_type": "code",
      "metadata": {
        "id": "qIwUNN0ZE8Vb",
        "colab_type": "code",
        "colab": {
          "base_uri": "https://localhost:8080/",
          "height": 155
        },
        "outputId": "833a81fd-7c05-4662-e129-facc9585f3dd"
      },
      "source": [
        "lda.fit(tfidf_matrix_lda)"
      ],
      "execution_count": 29,
      "outputs": [
        {
          "output_type": "execute_result",
          "data": {
            "text/plain": [
              "LatentDirichletAllocation(batch_size=128, doc_topic_prior=None,\n",
              "                          evaluate_every=-1, learning_decay=0.7,\n",
              "                          learning_method='online', learning_offset=10.0,\n",
              "                          max_doc_update_iter=100, max_iter=10,\n",
              "                          mean_change_tol=0.001, n_components=5, n_jobs=None,\n",
              "                          perp_tol=0.1, random_state=None,\n",
              "                          topic_word_prior=None, total_samples=1000000.0,\n",
              "                          verbose=0)"
            ]
          },
          "metadata": {
            "tags": []
          },
          "execution_count": 29
        }
      ]
    },
    {
      "cell_type": "code",
      "metadata": {
        "scrolled": true,
        "id": "TukTmm7dE8Vd",
        "colab_type": "code",
        "colab": {
          "base_uri": "https://localhost:8080/",
          "height": 34
        },
        "outputId": "9c823827-0421-4af1-cb5b-7fa2fe24efe0"
      },
      "source": [
        "# topics and words matrix\n",
        "topic_word = lda.components_\n",
        "print(topic_word.shape)"
      ],
      "execution_count": 33,
      "outputs": [
        {
          "output_type": "stream",
          "text": [
            "(5, 1298)\n"
          ],
          "name": "stdout"
        }
      ]
    },
    {
      "cell_type": "code",
      "metadata": {
        "id": "4Hs012V-E8Vg",
        "colab_type": "code",
        "colab": {}
      },
      "source": [
        "n_top_words = 7\n",
        "topic_keywords_list = []\n",
        "for i, topic_dist in enumerate(topic_word):\n",
        "    #Here we select top(n_top_words-1)\n",
        "    lda_topic_words = np.array(tf_selected_words)[np.argsort(topic_dist)][:-n_top_words:-1] \n",
        "    for j in range(len(lda_topic_words)):\n",
        "        lda_topic_words[j] = vocab_frame_dict[lda_topic_words[j]]\n",
        "    topic_keywords_list.append(lda_topic_words.tolist())"
      ],
      "execution_count": 0,
      "outputs": []
    },
    {
      "cell_type": "code",
      "metadata": {
        "id": "BuSg4tbSE8Vh",
        "colab_type": "code",
        "colab": {
          "base_uri": "https://localhost:8080/",
          "height": 34
        },
        "outputId": "8074655a-371f-427d-f149-02f4d7954c85"
      },
      "source": [
        "# documents and topics matrix\n",
        "doc_topic = lda.transform(tfidf_matrix_lda)\n",
        "print (doc_topic.shape)"
      ],
      "execution_count": 35,
      "outputs": [
        {
          "output_type": "stream",
          "text": [
            "(100, 5)\n"
          ],
          "name": "stdout"
        }
      ]
    },
    {
      "cell_type": "code",
      "metadata": {
        "id": "paiC0DU-E8Vj",
        "colab_type": "code",
        "colab": {
          "base_uri": "https://localhost:8080/",
          "height": 400
        },
        "outputId": "306cefe9-6fde-4a10-9568-5eb43047417e"
      },
      "source": [
        "# print out the clusters and topics and titles of the movies\n",
        "topic_doc_dict = {}\n",
        "print (\"<Document clustering result by LDA>\")\n",
        "for i in range(len(doc_topic)):\n",
        "    topicID = doc_topic[i].argmax()\n",
        "    if topicID not in topic_doc_dict:\n",
        "        topic_doc_dict[topicID] = [titles[i]]\n",
        "    else:\n",
        "        topic_doc_dict[topicID].append(titles[i])\n",
        "for i in topic_doc_dict:\n",
        "    print (\"Cluster \" + str(i) + \" words: \" + \", \".join(topic_keywords_list[i]))\n",
        "    print (\"Cluster \" + str(i) + \" titles (\" + str(len(topic_doc_dict[i])) + \" movies): \")\n",
        "    print (', '.join(topic_doc_dict[i]))\n",
        "    print ()"
      ],
      "execution_count": 36,
      "outputs": [
        {
          "output_type": "stream",
          "text": [
            "<Document clustering result by LDA>\n",
            "Cluster 3 words: michael, killing, police, father, sam, friend\n",
            "Cluster 3 titles (31 movies): \n",
            "The Godfather, Casablanca, Gone with the Wind, The Godfather: Part II, Psycho, On the Waterfront, West Side Story, Star Wars, E.T. the Extra-Terrestrial, Chinatown, Singin' in the Rain, Amadeus, The Lord of the Rings: The Return of the King, Gladiator, Unforgiven, Ben-Hur, Doctor Zhivago, The Good, the Bad and the Ugly, Butch Cassidy and the Sundance Kid, High Noon, The Deer Hunter, The French Connection, Rain Man, Annie Hall, Tootsie, Shane, Pulp Fiction, The Maltese Falcon, Double Indemnity, Rebel Without a Cause, Rear Window\n",
            "\n",
            "Cluster 2 words: henry, king, boat, killing, water, red\n",
            "Cluster 2 titles (18 movies): \n",
            "The Shawshank Redemption, One Flew Over the Cuckoo's Nest, The Wizard of Oz, 12 Angry Men, Raiders of the Lost Ark, An American in Paris, My Fair Lady, Jaws, Braveheart, The Treasure of the Sierra Madre, Dances with Wolves, Goodfellas, The Exorcist, The King's Speech, Mr. Smith Goes to Washington, Close Encounters of the Third Kind, The African Queen, Stagecoach\n",
            "\n",
            "Cluster 1 words: german, soldiers, paul, fight, army, mission\n",
            "Cluster 1 titles (22 movies): \n",
            "Schindler's List, Raging Bull, Lawrence of Arabia, Vertigo, 2001: A Space Odyssey, The Silence of the Lambs, The Bridge on the River Kwai, Dr. Strangelove or: How I Learned to Stop Worrying and Love the Bomb, Apocalypse Now, From Here to Eternity, Saving Private Ryan, Rocky, A Streetcar Named Desire, Patton, Platoon, The Pianist, All Quiet on the Western Front, Good Will Hunting, The Green Mile, Network, A Clockwork Orange, The Third Man\n",
            "\n",
            "Cluster 4 words: joe, george, car, jeans, filmed, captain\n",
            "Cluster 4 titles (18 movies): \n",
            "Citizen Kane, Titanic, Sunset Blvd., Forrest Gump, The Sound of Music, It's a Wonderful Life, Some Like It Hot, Gandhi, The Best Years of Our Lives, A Place in the Sun, Midnight Cowboy, Fargo, Nashville, The Graduate, American Graffiti, Wuthering Heights, North by Northwest, Yankee Doodle Dandy\n",
            "\n",
            "Cluster 0 words: tom, family, wedding, peter, father, children\n",
            "Cluster 0 titles (11 movies): \n",
            "The Philadelphia Story, To Kill a Mockingbird, The Apartment, City Lights, It Happened One Night, Out of Africa, Terms of Endearment, Giant, The Grapes of Wrath, Mutiny on the Bounty, Taxi Driver\n",
            "\n"
          ],
          "name": "stdout"
        }
      ]
    }
  ]
}